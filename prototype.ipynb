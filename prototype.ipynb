{
 "cells": [
  {
   "cell_type": "code",
   "execution_count": 13,
   "metadata": {},
   "outputs": [],
   "source": [
    "inputMyFuzzy = {\n",
    "    'CPU': {\n",
    "        'Lambat': [0, 0, 2, 2.4],\n",
    "        'Sedang': [2, 2.4, 2.6, 3],\n",
    "        'Cepat': [2.6, 3, 0, 0]\n",
    "    },\n",
    "    'Core': {\n",
    "        'Kurang Optimal': [0, 0, 2, 4],\n",
    "        'Optimal': [2, 4, 6, 8],\n",
    "        'Sangat Optimal': [6, 8, 0, 0]\n",
    "    },\n",
    "    'RAM': {\n",
    "        'Kecil': [0, 0, 2, 4],\n",
    "        'Standard': [2, 4, 8, 16],\n",
    "        'Besar': [8, 16, 0, 0]\n",
    "    },\n",
    "}"
   ]
  },
  {
   "cell_type": "code",
   "execution_count": 30,
   "metadata": {},
   "outputs": [],
   "source": [
    "cpu = float(input(\"Masukkan CPU: \"))\n",
    "core = int(input(\"Masukkan Core: \"))\n",
    "RAM = int(input(\"Masukkan RAM: \"))"
   ]
  },
  {
   "cell_type": "code",
   "execution_count": 39,
   "metadata": {},
   "outputs": [],
   "source": [
    "def fuzzifikasi(values, x):\n",
    "    a, b, c, d = values\n",
    "    print(a, b, c, d, x)\n",
    "    if a < x < b:\n",
    "        return (x - a) / (b - a)\n",
    "    elif c < x < d:\n",
    "        return (d - x) / (d - c)\n",
    "    elif b <= x <= d:\n",
    "        return 1\n",
    "    else:\n",
    "        return 0"
   ]
  },
  {
   "cell_type": "code",
   "execution_count": 41,
   "metadata": {},
   "outputs": [
    {
     "output_type": "stream",
     "name": "stdout",
     "text": "0 0 2 2.4 2.2\n0.49999999999999944\n2 2.4 2.6 3 2.2\nMASUK\n-5.000000000000001\n2.6 3 0 0 2.2\n0\n0 0 2 4 3\n0.5\n2 4 6 8 3\nMASUK\n-1.0\n6 8 0 0 3\n0\n0 0 2 4 4\n1\n2 4 8 16 4\n1\n8 16 0 0 4\n0\nCPU: 2.2\nCPU: 3\nCPU: 4\n[['Lambat', 0.5], ['Sedang', -5.0], ['Cepat', 0], ['Kurang Optimal', 0.5], ['Optimal', -1.0], ['Sangat Optimal', 0], ['Kecil', 1], ['Standard', 1], ['Besar', 0]]\n"
    }
   ],
   "source": [
    "fuzzy = []\n",
    "for inputName, inputAttribute in inputMyFuzzy.items():\n",
    "    for attribute, values in inputAttribute.items():\n",
    "        if inputName == \"CPU\":\n",
    "            temp = fuzzifikasi(values, cpu)\n",
    "        elif inputName == \"Core\":\n",
    "            temp = fuzzifikasi(values, core)\n",
    "        else:\n",
    "            temp = fuzzifikasi(values, RAM)\n",
    "        fuzzy.append([attribute, round(temp, 2)])\n",
    "\n",
    "\n",
    "print(f'CPU: {cpu}')\n",
    "print(f'CPU: {core}')\n",
    "print(f'CPU: {RAM}')\n",
    "print(fuzzy)\n",
    "        \n",
    "\n",
    "        \n"
   ]
  },
  {
   "cell_type": "code",
   "execution_count": null,
   "metadata": {},
   "outputs": [],
   "source": []
  },
  {
   "cell_type": "code",
   "execution_count": null,
   "metadata": {},
   "outputs": [],
   "source": []
  }
 ],
 "metadata": {
  "language_info": {
   "codemirror_mode": {
    "name": "ipython",
    "version": 3
   },
   "file_extension": ".py",
   "mimetype": "text/x-python",
   "name": "python",
   "nbconvert_exporter": "python",
   "pygments_lexer": "ipython3",
   "version": "3.7.4-final"
  },
  "orig_nbformat": 2,
  "kernelspec": {
   "name": "python3",
   "display_name": "Python 3"
  }
 },
 "nbformat": 4,
 "nbformat_minor": 2
}